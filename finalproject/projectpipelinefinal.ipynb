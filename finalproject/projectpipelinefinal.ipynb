{
 "cells": [
  {
   "cell_type": "code",
   "execution_count": 0,
   "metadata": {
    "application/vnd.databricks.v1+cell": {
     "cellMetadata": {
      "byteLimit": 2048000,
      "rowLimit": 10000
     },
     "inputWidgets": {},
     "nuid": "829175ba-e75f-46a3-b481-f36d808fc48a",
     "showTitle": false,
     "tableResultSettingsMap": {},
     "title": ""
    }
   },
   "outputs": [],
   "source": [
    "import os\n",
    "import zipfile\n",
    "import smtplib\n",
    "from datetime import datetime\n",
    "from email.message import EmailMessage\n",
    "from pyspark.sql import SparkSession\n",
    "from pyspark.sql.functions import lit"
   ]
  },
  {
   "cell_type": "code",
   "execution_count": 0,
   "metadata": {
    "application/vnd.databricks.v1+cell": {
     "cellMetadata": {
      "byteLimit": 2048000,
      "rowLimit": 10000
     },
     "inputWidgets": {},
     "nuid": "7a5baab6-958b-41f2-b198-8b9f63cea69c",
     "showTitle": false,
     "tableResultSettingsMap": {},
     "title": ""
    }
   },
   "outputs": [],
   "source": [
    "spark = SparkSession.builder.appName(\"CDCPipeline\").getOrCreate()"
   ]
  },
  {
   "cell_type": "code",
   "execution_count": 0,
   "metadata": {
    "application/vnd.databricks.v1+cell": {
     "cellMetadata": {
      "byteLimit": 2048000,
      "rowLimit": 10000
     },
     "inputWidgets": {},
     "nuid": "717d7df4-896f-4919-83c0-9039d5a25c88",
     "showTitle": false,
     "tableResultSettingsMap": {},
     "title": ""
    }
   },
   "outputs": [],
   "source": [
    "jdbc_hostname = \"nishchay-sql.database.windows.net\"\n",
    "jdbc_port = 1433\n",
    "jdbc_database = \"projectsql\"\n",
    "jdbc_username = \"Nishchay@nishchay-sql\"\n",
    "jdbc_password = \"Nish@4321\"\n",
    "jdbc_url = (\n",
    "    f\"jdbc:sqlserver://{jdbc_hostname}:{jdbc_port};database={jdbc_database};\"\n",
    "    \"encrypt=true;trustServerCertificate=false;loginTimeout=30;\"\n",
    ")\n",
    "connection_properties = {\n",
    "    \"user\": jdbc_username,\n",
    "    \"password\": jdbc_password,\n",
    "    \"driver\": \"com.microsoft.sqlserver.jdbc.SQLServerDriver\"\n",
    "}\n",
    "\n",
    "cdc_tables = {\n",
    "    \"Customer\": \"cdc.dbo_Customer_CT\",\n",
    "    \"Product\": \"cdc.dbo_Product_CT\",\n",
    "    \"Order\": \"cdc.dbo_Orders_CT\",\n",
    "    \"Inventory\": \"cdc.dbo_Inventory_CT\"\n",
    "}"
   ]
  },
  {
   "cell_type": "code",
   "execution_count": 0,
   "metadata": {
    "application/vnd.databricks.v1+cell": {
     "cellMetadata": {
      "byteLimit": 2048000,
      "rowLimit": 10000
     },
     "inputWidgets": {},
     "nuid": "f750c9cd-9fdb-422f-855c-296b7c466461",
     "showTitle": false,
     "tableResultSettingsMap": {},
     "title": ""
    }
   },
   "outputs": [],
   "source": [
    "sender_email = \"mohannishchay110404@gmail.com\"\n",
    "receiver_email = \"mohannishchay6@gmail.com\"\n",
    "app_password = \"tdzscdxzprpilofy\"\n",
    "smtp_server = \"smtp.gmail.com\"\n",
    "smtp_port = 465"
   ]
  },
  {
   "cell_type": "code",
   "execution_count": 0,
   "metadata": {
    "application/vnd.databricks.v1+cell": {
     "cellMetadata": {
      "byteLimit": 2048000,
      "rowLimit": 10000
     },
     "inputWidgets": {},
     "nuid": "14f4e35d-0409-4b25-9bfe-8e39e2d9f4e3",
     "showTitle": false,
     "tableResultSettingsMap": {},
     "title": ""
    }
   },
   "outputs": [],
   "source": [
    "output_path = \"/mnt/datalake/cdc_output\"\n",
    "csv_temp_path = \"/dbfs/tmp/cdc_exports\"\n",
    "zip_path = \"/dbfs/tmp/cdc_exports/changed_data.zip\""
   ]
  },
  {
   "cell_type": "code",
   "execution_count": 0,
   "metadata": {
    "application/vnd.databricks.v1+cell": {
     "cellMetadata": {
      "byteLimit": 2048000,
      "rowLimit": 10000
     },
     "inputWidgets": {},
     "nuid": "a415422a-f197-4a76-b7fe-9cf982ae1d77",
     "showTitle": false,
     "tableResultSettingsMap": {},
     "title": ""
    }
   },
   "outputs": [],
   "source": [
    "def download_jdbc_driver():\n",
    "    driver_path = \"/databricks/jars/mssql-jdbc-12.2.0.jre11.jar\"\n",
    "    if not os.path.exists(driver_path):\n",
    "        os.system(\n",
    "            \"wget https://repo1.maven.org/maven2/com/microsoft/sqlserver/mssql-jdbc/\"\n",
    "            \"12.2.0.jre11/mssql-jdbc-12.2.0.jre11.jar -P /databricks/jars/\"\n",
    "        )\n",
    "    print(f\"JDBC driver check: {'Found' if os.path.exists(driver_path) else 'Downloaded'}\")\n",
    "\n",
    "def process_cdc_tables():\n",
    "    current_time = datetime.now()\n",
    "    os.makedirs(csv_temp_path, exist_ok=True)\n",
    "\n",
    "    for table_name, cdc_table in cdc_tables.items():\n",
    "        try:\n",
    "            df_cdc = spark.read.jdbc(\n",
    "                url=jdbc_url,\n",
    "                table=cdc_table,\n",
    "                properties=connection_properties\n",
    "            )\n",
    "\n",
    "            if df_cdc.count() == 0:\n",
    "                print(f\"No changes detected in {table_name}\")\n",
    "                continue\n",
    "\n",
    "            df_cdc = df_cdc.withColumn(\"load_timestamp\", lit(current_time))\n",
    "\n",
    "            delta_path = f\"{output_path}/{table_name}\"\n",
    "            df_cdc.write.format(\"delta\").mode(\"append\").save(delta_path)\n",
    "            print(f\"Saved CDC data for {table_name} to {delta_path}\")\n",
    "\n",
    "            csv_path = f\"{csv_temp_path}/{table_name}.csv\"\n",
    "            df_cdc.coalesce(1).write.mode(\"overwrite\").option(\"header\", \"true\").csv(csv_path)\n",
    "            print(f\"Saved CSV for {table_name} to {csv_path}\")\n",
    "\n",
    "        except Exception as e:\n",
    "            print(f\"Error processing {table_name}: {str(e)}\")"
   ]
  },
  {
   "cell_type": "code",
   "execution_count": 0,
   "metadata": {
    "application/vnd.databricks.v1+cell": {
     "cellMetadata": {
      "byteLimit": 2048000,
      "rowLimit": 10000
     },
     "inputWidgets": {},
     "nuid": "51b70fd6-c395-4050-a991-0dba4bba7c5a",
     "showTitle": false,
     "tableResultSettingsMap": {},
     "title": ""
    }
   },
   "outputs": [],
   "source": [
    "def create_zip_file():\n",
    "    try:\n",
    "        with zipfile.ZipFile(zip_path, 'w', zipfile.ZIP_DEFLATED) as zipf:\n",
    "            for table_name in cdc_tables.keys():\n",
    "                csv_file = f\"{csv_temp_path}/{table_name}.csv\"\n",
    "                if os.path.exists(csv_file):\n",
    "                    zipf.write(csv_file, os.path.basename(csv_file))\n",
    "                    print(f\"Added {csv_file} to zip\")\n",
    "        print(f\"Created zip file at {zip_path}\")\n",
    "        return os.path.exists(zip_path)\n",
    "    except Exception as e:\n",
    "        print(f\"Error creating zip file: {str(e)}\")\n",
    "        return False"
   ]
  },
  {
   "cell_type": "code",
   "execution_count": 0,
   "metadata": {
    "application/vnd.databricks.v1+cell": {
     "cellMetadata": {
      "byteLimit": 2048000,
      "rowLimit": 10000
     },
     "inputWidgets": {},
     "nuid": "011a3ddb-4649-4a7a-a21c-8d13af6ab013",
     "showTitle": false,
     "tableResultSettingsMap": {},
     "title": ""
    }
   },
   "outputs": [],
   "source": [
    "def send_email_notification():\n",
    "    try:\n",
    "        msg = EmailMessage()\n",
    "        msg['Subject'] = \"CDC Data Export: Pipeline Success\"\n",
    "        msg['From'] = sender_email\n",
    "        msg['To'] = receiver_email\n",
    "        msg.set_content(\n",
    "            \"The CDC pipeline completed successfully. \"\n",
    "            \"Attached is the zip file containing the latest CDC exports for all tables.\"\n",
    "        )\n",
    "\n",
    "        if os.path.exists(zip_path):\n",
    "            with open(zip_path, \"rb\") as file:\n",
    "                file_data = file.read()\n",
    "                file_name = os.path.basename(zip_path)\n",
    "                msg.add_attachment(\n",
    "                    file_data,\n",
    "                    maintype=\"application\",\n",
    "                    subtype=\"octet-stream\",\n",
    "                    filename=file_name\n",
    "                )\n",
    "        else:\n",
    "            print(\"Zip file not found, sending email without attachment\")\n",
    "            msg.set_content(\"The CDC pipeline completed successfully, but no new data was found.\")\n",
    "\n",
    "        with smtplib.SMTP_SSL(smtp_server, smtp_port) as smtp:\n",
    "            smtp.login(sender_email, app_password)\n",
    "            smtp.send_message(msg)\n",
    "        print(\"✅ Email sent successfully!\")\n",
    "\n",
    "    except Exception as e:\n",
    "        print(f\"Error sending email: {str(e)}\")"
   ]
  },
  {
   "cell_type": "code",
   "execution_count": 0,
   "metadata": {
    "application/vnd.databricks.v1+cell": {
     "cellMetadata": {
      "byteLimit": 2048000,
      "rowLimit": 10000
     },
     "inputWidgets": {},
     "nuid": "947a7312-b2ef-4318-85fc-2f8ed43bda8e",
     "showTitle": false,
     "tableResultSettingsMap": {},
     "title": ""
    }
   },
   "outputs": [
    {
     "output_type": "stream",
     "name": "stdout",
     "output_type": "stream",
     "text": [
      "JDBC driver check: Found\nSaved CDC data for Customer to /mnt/datalake/cdc_output/Customer\nSaved CSV for Customer to /dbfs/tmp/cdc_exports/Customer.csv\nSaved CDC data for Product to /mnt/datalake/cdc_output/Product\nSaved CSV for Product to /dbfs/tmp/cdc_exports/Product.csv\nSaved CDC data for Order to /mnt/datalake/cdc_output/Order\nSaved CSV for Order to /dbfs/tmp/cdc_exports/Order.csv\nSaved CDC data for Inventory to /mnt/datalake/cdc_output/Inventory\nSaved CSV for Inventory to /dbfs/tmp/cdc_exports/Inventory.csv\nCreated zip file at /dbfs/tmp/cdc_exports/changed_data.zip\n✅ Email sent successfully!\n"
     ]
    }
   ],
   "source": [
    "if __name__ == \"__main__\":\n",
    "    try:\n",
    "        download_jdbc_driver()\n",
    "        process_cdc_tables()\n",
    "        if create_zip_file():\n",
    "            send_email_notification()\n",
    "        else:\n",
    "            print(\"No new data to email\")\n",
    "    except Exception as e:\n",
    "        print(f\"Pipeline failed: {str(e)}\")"
   ]
  }
 ],
 "metadata": {
  "application/vnd.databricks.v1+notebook": {
   "computePreferences": null,
   "dashboards": [],
   "environmentMetadata": {
    "base_environment": "",
    "environment_version": "2"
   },
   "inputWidgetPreferences": null,
   "language": "python",
   "notebookMetadata": {
    "pythonIndentUnit": 4
   },
   "notebookName": "projectpipelinefinal",
   "widgets": {}
  },
  "language_info": {
   "name": "python"
  }
 },
 "nbformat": 4,
 "nbformat_minor": 0
}